{
  "nbformat": 4,
  "nbformat_minor": 0,
  "metadata": {
    "colab": {
      "name": "Neural Networks in pytorch.ipynb",
      "version": "0.3.2",
      "provenance": [],
      "collapsed_sections": []
    },
    "kernelspec": {
      "name": "python3",
      "display_name": "Python 3"
    },
    "accelerator": "GPU"
  },
  "cells": [
    {
      "cell_type": "code",
      "metadata": {
        "id": "rKW32u-Mop_b",
        "colab_type": "code",
        "colab": {}
      },
      "source": [
        "import torch as t\n",
        "import torchvision\n",
        "import torchvision.transforms as tf\n",
        "from torchvision import datasets"
      ],
      "execution_count": 0,
      "outputs": []
    },
    {
      "cell_type": "code",
      "metadata": {
        "id": "I_vhamq0o4kb",
        "colab_type": "code",
        "colab": {}
      },
      "source": [
        "import numpy as np\n",
        "import pandas as pd\n",
        "import matplotlib.pyplot as plt\n",
        "import helper"
      ],
      "execution_count": 0,
      "outputs": []
    },
    {
      "cell_type": "code",
      "metadata": {
        "id": "Ec1_5otlpEjy",
        "colab_type": "code",
        "colab": {}
      },
      "source": [
        "transform=tf.Compose([tf.ToTensor(),tf.Normalize((0.5,),(0.5,))])"
      ],
      "execution_count": 0,
      "outputs": []
    },
    {
      "cell_type": "code",
      "metadata": {
        "id": "dHdkKWXVqA14",
        "colab_type": "code",
        "colab": {}
      },
      "source": [
        "\n",
        "# Download and load the training data\n",
        "trainset = datasets.MNIST('~/.pytorch/MNIST_data/', download=True, train=True, transform=transform)\n",
        "trainloader = t.utils.data.DataLoader(trainset, batch_size=64, shuffle=True)"
      ],
      "execution_count": 0,
      "outputs": []
    },
    {
      "cell_type": "code",
      "metadata": {
        "id": "FW4VaeiNqKZq",
        "colab_type": "code",
        "colab": {
          "base_uri": "https://localhost:8080/",
          "height": 68
        },
        "outputId": "dd7a6061-2a93-45a2-80ce-a6f8ab5cad66"
      },
      "source": [
        "dataiter=iter(trainloader)\n",
        "images,labels=dataiter.next()\n",
        "print(type(images))\n",
        "print(images.shape)\n",
        "print(labels.shape)"
      ],
      "execution_count": 5,
      "outputs": [
        {
          "output_type": "stream",
          "text": [
            "<class 'torch.Tensor'>\n",
            "torch.Size([64, 1, 28, 28])\n",
            "torch.Size([64])\n"
          ],
          "name": "stdout"
        }
      ]
    },
    {
      "cell_type": "code",
      "metadata": {
        "id": "cuYhpBWeqIJV",
        "colab_type": "code",
        "colab": {
          "base_uri": "https://localhost:8080/",
          "height": 269
        },
        "outputId": "7b7f3f25-c002-4021-b09b-36674888c725"
      },
      "source": [
        "plt.imshow(images[56].numpy().squeeze(), cmap='Greys_r');"
      ],
      "execution_count": 6,
      "outputs": [
        {
          "output_type": "display_data",
          "data": {
            "image/png": "[encoded data removed]",
            "text/plain": [
              "<Figure size 432x288 with 1 Axes>"
            ]
          },
          "metadata": {
            "tags": []
          }
        }
      ]
    },
    {
      "cell_type": "code",
      "metadata": {
        "id": "vkPyPW__pDTa",
        "colab_type": "code",
        "colab": {
          "base_uri": "https://localhost:8080/",
          "height": 34
        },
        "outputId": "9c16855c-7e76-47bf-8b90-3c7a2db5f4a8"
      },
      "source": [
        "input=images.reshape(64,-1)\n",
        "print(input.shape)"
      ],
      "execution_count": 7,
      "outputs": [
        {
          "output_type": "stream",
          "text": [
            "torch.Size([64, 784])\n"
          ],
          "name": "stdout"
        }
      ]
    },
    {
      "cell_type": "code",
      "metadata": {
        "id": "ImbB6HT7tkcz",
        "colab_type": "code",
        "colab": {
          "base_uri": "https://localhost:8080/",
          "height": 85
        },
        "outputId": "d6c19bbb-10ce-4bad-bdc4-660e822b9443"
      },
      "source": [
        "\n",
        "hidden_layer=256\n",
        "output_layer=10\n",
        "\n",
        "#weights for hidden and output layer\n",
        "weights_hidden=t.randn(input.shape[1],hidden_layer)\n",
        "print(\"Hidden Layer weights: \",weights_hidden.shape)\n",
        "weights_output=t.randn(hidden_layer,output_layer)\n",
        "print(\"Ouput Layer weights: \",weights_output.shape)\n",
        "\n",
        "#bias for hidden and output layer\n",
        "bias_hidden=t.randn(hidden_layer)\n",
        "print(\"Hidden Layer Bias: \",bias_hidden.shape)\n",
        "bias_output=t.randn(output_layer)\n",
        "print(\"Output Layer Bias: \",bias_output.shape)"
      ],
      "execution_count": 35,
      "outputs": [
        {
          "output_type": "stream",
          "text": [
            "Hidden Layer weights:  torch.Size([784, 256])\n",
            "Ouput Layer weights:  torch.Size([256, 10])\n",
            "Hidden Layer Bias:  torch.Size([256])\n",
            "Output Layer Bias:  torch.Size([10])\n"
          ],
          "name": "stdout"
        }
      ]
    },
    {
      "cell_type": "code",
      "metadata": {
        "id": "dl4HnERauZKA",
        "colab_type": "code",
        "colab": {}
      },
      "source": [
        "def activation(x):\n",
        "  sigmoid_act=1/(1+t.exp(-x))\n",
        "  return sigmoid_act"
      ],
      "execution_count": 0,
      "outputs": []
    },
    {
      "cell_type": "code",
      "metadata": {
        "id": "RPF-1acPt92l",
        "colab_type": "code",
        "colab": {
          "base_uri": "https://localhost:8080/",
          "height": 34
        },
        "outputId": "f9b09619-42a3-4c37-a89f-5d31d71546b0"
      },
      "source": [
        "hidden=activation(t.mm(input,weights_hidden)+bias_hidden)\n",
        "hidden.shape"
      ],
      "execution_count": 37,
      "outputs": [
        {
          "output_type": "execute_result",
          "data": {
            "text/plain": [
              "torch.Size([64, 256])"
            ]
          },
          "metadata": {
            "tags": []
          },
          "execution_count": 37
        }
      ]
    },
    {
      "cell_type": "code",
      "metadata": {
        "id": "Ibr3_Kinyn6I",
        "colab_type": "code",
        "colab": {
          "base_uri": "https://localhost:8080/",
          "height": 34
        },
        "outputId": "cdfa8ed6-6636-44cd-86a1-ba083f04c6c4"
      },
      "source": [
        "o=(t.mm(hidden,weights_output)+bias_output)\n",
        "o.shape"
      ],
      "execution_count": 39,
      "outputs": [
        {
          "output_type": "execute_result",
          "data": {
            "text/plain": [
              "torch.Size([64, 10])"
            ]
          },
          "metadata": {
            "tags": []
          },
          "execution_count": 39
        }
      ]
    },
    {
      "cell_type": "code",
      "metadata": {
        "id": "wADzuYjEtoA-",
        "colab_type": "code",
        "colab": {}
      },
      "source": [
        "def softmax(x):\n",
        "  \n",
        "  softmax_act=t.exp(x)/(t.sum(t.exp(x),dim=1).reshape(-1,1))\n",
        "  return softmax_act"
      ],
      "execution_count": 0,
      "outputs": []
    },
    {
      "cell_type": "code",
      "metadata": {
        "id": "_80yUl_XtEMJ",
        "colab_type": "code",
        "colab": {
          "base_uri": "https://localhost:8080/",
          "height": 153
        },
        "outputId": "4594a861-90a3-426e-e72c-34cdee4d9ce0"
      },
      "source": [
        "prob=softmax(o)\n",
        "t.sum(prob,dim=1)"
      ],
      "execution_count": 43,
      "outputs": [
        {
          "output_type": "execute_result",
          "data": {
            "text/plain": [
              "tensor([1.0000, 1.0000, 1.0000, 1.0000, 1.0000, 1.0000, 1.0000, 1.0000, 1.0000,\n",
              "        1.0000, 1.0000, 1.0000, 1.0000, 1.0000, 1.0000, 1.0000, 1.0000, 1.0000,\n",
              "        1.0000, 1.0000, 1.0000, 1.0000, 1.0000, 1.0000, 1.0000, 1.0000, 1.0000,\n",
              "        1.0000, 1.0000, 1.0000, 1.0000, 1.0000, 1.0000, 1.0000, 1.0000, 1.0000,\n",
              "        1.0000, 1.0000, 1.0000, 1.0000, 1.0000, 1.0000, 1.0000, 1.0000, 1.0000,\n",
              "        1.0000, 1.0000, 1.0000, 1.0000, 1.0000, 1.0000, 1.0000, 1.0000, 1.0000,\n",
              "        1.0000, 1.0000, 1.0000, 1.0000, 1.0000, 1.0000, 1.0000, 1.0000, 1.0000,\n",
              "        1.0000])"
            ]
          },
          "metadata": {
            "tags": []
          },
          "execution_count": 43
        }
      ]
    }
  ]
}